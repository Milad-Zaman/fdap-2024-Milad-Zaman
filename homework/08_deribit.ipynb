{
 "cells": [
  {
   "cell_type": "markdown",
   "metadata": {},
   "source": [
    "![head.png](https://github.com/cafawo/FinancialDataAnalytics/blob/master/figures/head.jpg?raw=1)\n",
    "\n",
    "# Financial Data Analytics in Python\n",
    "\n",
    "**Prof. Dr. Fabian Woebbeking**</br>\n",
    "Assistant Professor of Financial Economics\n",
    "\n",
    "IWH - Leibniz Institute for Economic Research</br>\n",
    "MLU - Martin Luther University Halle-Wittenberg\n",
    "\n",
    "fabian.woebbeking@iwh-halle.de\n",
    "\n",
    "**Birte Winter**</br>\n",
    "PhD Candidate, Teaching Assistant (TA)\n",
    "\n",
    "IWH - Leibniz Institute for Economic Research\n",
    "\n",
    "birte.winter@iwh-halle.de"
   ]
  },
  {
   "cell_type": "markdown",
   "metadata": {},
   "source": [
    "# Homework: paper trading with Deribit \n",
    "\n",
    "For this homework you will need a [Deribit](https://test.deribit.com/) account. Consult [**slides.ipynb**](https://github.com/cafawo/FinancialDataAnalytics) for help! If you need further assistance, do not hesitate to open a Q&A at https://github.com/cafawo/FinancialDataAnalytics/discussions"
   ]
  },
  {
   "cell_type": "markdown",
   "metadata": {},
   "source": [
    "### Task 1: \n",
    "\n",
    "Use Deribit's `\"/private/sell\"` API endpoint to sell one **\"BTC-PERPETUAL\"**.\n",
    "\n",
    "Hint: https://docs.deribit.com/?shell#trading"
   ]
  },
  {
   "cell_type": "markdown",
   "metadata": {},
   "source": [
    "### Task 2: \n",
    "\n",
    "Use Deribit's `\"/private/sell\"` API endpoint to sell **\"BTC-PERPETUAL\"** if the price drops below 50% of the current price. Furthermore, ensure that you do not trade at a price lower than 60% of the current price. If the order is not immediately executed, it should remain in the trading book until the end of the day.\n",
    "\n",
    "\n",
    "Hint: https://docs.deribit.com/?shell#trading\n"
   ]
  },
  {
   "cell_type": "markdown",
   "metadata": {},
   "source": [
    "### Task 3: \n",
    "\n",
    "Close all positions at the current market price and cancel all orders.\n",
    "\n",
    "Hint: https://docs.deribit.com/?shell#trading\n"
   ]
  },
  {
   "cell_type": "markdown",
   "metadata": {},
   "source": [
    "### Task 4: \n",
    "\n",
    "Calculate the performance of your trades. "
   ]
  },
  {
   "cell_type": "code",
   "execution_count": null,
   "metadata": {},
   "outputs": [],
   "source": []
  }
 ],
 "metadata": {
  "kernelspec": {
   "display_name": "Python 3 (ipykernel)",
   "language": "python",
   "name": "python3"
  },
  "language_info": {
   "codemirror_mode": {
    "name": "ipython",
    "version": 3
   },
   "file_extension": ".py",
   "mimetype": "text/x-python",
   "name": "python",
   "nbconvert_exporter": "python",
   "pygments_lexer": "ipython3",
   "version": "3.10.9"
  }
 },
 "nbformat": 4,
 "nbformat_minor": 2
}
