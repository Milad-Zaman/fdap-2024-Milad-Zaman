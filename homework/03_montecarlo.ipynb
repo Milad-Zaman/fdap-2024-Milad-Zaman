{
 "cells": [
  {
   "attachments": {},
   "cell_type": "markdown",
   "metadata": {},
   "source": [
    "![head.png](https://github.com/iwh-halle/FinancialDataAnalytics/blob/master/figures/head.jpg?raw=1)\n",
    "\n",
    "# Financial Data Analytics in Python\n",
    "\n",
    "**Prof. Dr. Fabian Woebbeking**</br>\n",
    "Assistant Professor of Financial Economics\n",
    "\n",
    "IWH - Leibniz Institute for Economic Research</br>\n",
    "MLU - Martin Luther University Halle-Wittenberg\n",
    "\n",
    "fabian.woebbeking@iwh-halle.de"
   ]
  },
  {
   "attachments": {},
   "cell_type": "markdown",
   "metadata": {},
   "source": [
    "# Homework\n",
    "\n",
    "You will need a Git/GitHub repository to submit your course deliverables. Consult [**slides.ipynb**](https://github.com/iwh-halle/FinancialDataAnalytics) for help with the tasks below! If you need further assistance, do not hesitate to open a Q&A at https://github.com/cafawo/FinancialDataAnalytics/discussions"
   ]
  },
  {
   "attachments": {},
   "cell_type": "markdown",
   "metadata": {},
   "source": [
    "### Task: \n",
    "\n",
    "The liquidity position of a firm measured in million is a **generalized Wiener process** with a drift of $0.1$ per month and a variance of $\\sigma^2 = 0.16$ per month. The initial cash position is $2.0$. Calculate:\n",
    "\n",
    "1. \tthe expected value and standard deviation in one, six and 12 months.\n",
    "2.\tWhat is the probability of a negative cash position in 6 and 12 months? "
   ]
  },
  {
   "cell_type": "code",
   "execution_count": 2,
   "metadata": {},
   "outputs": [
    {
     "name": "stdout",
     "output_type": "stream",
     "text": [
      "At 1 months:\n",
      "Expected value: 2.10 million dollars\n",
      "Standard deviation: 0.40 million dollars\n",
      "\n",
      "At 6 months:\n",
      "Expected value: 2.60 million dollars\n",
      "Standard deviation: 0.98 million dollars\n",
      "\n",
      "At 12 months:\n",
      "Expected value: 3.20 million dollars\n",
      "Standard deviation: 1.39 million dollars\n",
      "\n",
      "Probability of a negative cash position in 6 months: 0.0040\n",
      "Probability of a negative cash position in 12 months: 0.0105\n"
     ]
    }
   ],
   "source": [
    "import numpy as np\n",
    "\n",
    "\n",
    "drift = 0.1  # drift per month\n",
    "variance = 0.16  # variance per month\n",
    "initial_cash = 2.0  # initial cash position in million dollars\n",
    "\n",
    "# Time points (in months)\n",
    "time_points = [1, 6, 12]\n",
    "\n",
    "# Calculate expected value and standard deviation for each time point\n",
    "for t in time_points:\n",
    "    # Expected value\n",
    "    expected_value = initial_cash + drift * t\n",
    "    \n",
    "    # Standard deviation\n",
    "    standard_deviation = np.sqrt(variance * t)\n",
    "    \n",
    "    # Print results\n",
    "    print(f\"At {t} months:\")\n",
    "    print(f\"Expected value: {expected_value:.2f} million dollars\")\n",
    "    print(f\"Standard deviation: {standard_deviation:.2f} million dollars\\n\")\n",
    "    \n",
    "    \n",
    "    #%%\n",
    "    from scipy.stats import norm\n",
    "\n",
    "# Function to calculate probability of negative cash position\n",
    "def prob_negative_cash_position(initial_cash, drift, variance, t):\n",
    "    # Calculate the mean and standard deviation of the cash position at time t\n",
    "    mean = initial_cash + drift * t\n",
    "    standard_deviation = np.sqrt(variance * t)\n",
    "    \n",
    "    # Use the cumulative distribution function (CDF) of the standard normal distribution\n",
    "    # to find the probability of the cash position being negative\n",
    "    prob_negative = norm.cdf(0, loc=mean, scale=standard_deviation)\n",
    "    \n",
    "    return prob_negative\n",
    "\n",
    "# Calculate and print the probability of negative cash position at 6 and 12 months\n",
    "prob_negative_6_months = prob_negative_cash_position(initial_cash, drift, variance, 6)\n",
    "prob_negative_12_months = prob_negative_cash_position(initial_cash, drift, variance, 12)\n",
    "\n",
    "print(f\"Probability of a negative cash position in 6 months: {prob_negative_6_months:.4f}\")\n",
    "print(f\"Probability of a negative cash position in 12 months: {prob_negative_12_months:.4f}\") "
   ]
  },
  {
   "attachments": {},
   "cell_type": "markdown",
   "metadata": {},
   "source": [
    "### Task: \n",
    "\n",
    "The cash flow of a [call option](https://en.wikipedia.org/wiki/Call_option) with strike $K$ at maturity $T$ is given by\n",
    "\n",
    "$$\n",
    "max(S_T - K, 0) = (S_T - K)^+\n",
    "$$\n",
    "\n",
    "where $S_T$ is the price of the underlying at $T$. The price of the option under the [risk-neutral measure](https://en.wikipedia.org/wiki/Risk-neutral_measure) $\\mathbb{Q}$ is simply its discounted expected value\n",
    "$$\n",
    "\\mathbb{E}^\\mathbb{Q}[(S_T - K)^+] e^{-rT}.\n",
    "$$\n",
    "\n",
    "\n",
    "Calculate the price of the option, using:\n",
    "1. numerical integration and\n",
    "2. Monte carlo simulation.\n",
    "\n",
    "For you calculations, assume that todays price of the underlying is $S_0 = 220$, the strike is $K = 220$, volatility is $\\sigma = 0.98$, the risk free rate is $r = 10\\%$ (continuous) and maturity is one year. We further assume that the underlying $S$ follows a **Geometric Brownian motion**.\n",
    "\n",
    "Hint: The terminal stock price $S_T$, under the risk-neutral measure, follows a log-normal distribution with PDF\n",
    "\n",
    "$$f(x) = \\frac{1}{x s \\sqrt{2 \\pi}} \\exp\\left( -\\frac{(\\ln x - \\mu)^2}{2 s^2} \\right) $$\n",
    "\n",
    "where $\\mu = \\ln S_0 + (r-\\sigma^2 / 2)T$ and variance $s^2 = \\sigma^2 T$.\n"
   ]
  },
  {
   "cell_type": "code",
   "execution_count": 1,
   "metadata": {},
   "outputs": [
    {
     "name": "stdout",
     "output_type": "stream",
     "text": [
      "Option price using numerical integration: 89.60\n",
      "Option price using Monte Carlo simulation: 89.75\n"
     ]
    }
   ],
   "source": [
    "import numpy as np\n",
    "from scipy.stats import norm\n",
    "from scipy.integrate import quad\n",
    "\n",
    "# Given parameters\n",
    "S0 = 220  # today's price of the underlying\n",
    "K = 220   # strike price\n",
    "sigma = 0.98  # volatility\n",
    "r = 0.10  # risk-free rate\n",
    "T = 1  # time to maturity\n",
    "\n",
    "# Calculating parameters for the log-normal distribution\n",
    "mu = np.log(S0) + (r - 0.5 * sigma**2) * T\n",
    "s = sigma * np.sqrt(T)\n",
    "\n",
    "# 1. Numerical Integration\n",
    "def integrand(x):\n",
    "    return np.exp(-r * T) * max(x - K, 0) * (1 / (x * s * np.sqrt(2 * np.pi))) * np.exp(-((np.log(x) - mu)**2 / (2 * s**2)))\n",
    "\n",
    "option_price_integration, _ = quad(integrand, K, np.inf)\n",
    "\n",
    "# 2. Monte Carlo Simulation\n",
    "np.random.seed(0)  # for reproducibility\n",
    "n_simulations = 1000000\n",
    "ST = S0 * np.exp((r - 0.5 * sigma**2) * T + sigma * np.sqrt(T) * np.random.randn(n_simulations))\n",
    "payoffs = np.maximum(ST - K, 0)\n",
    "option_price_monte_carlo = np.exp(-r * T) * np.mean(payoffs)\n",
    "\n",
    "# Results\n",
    "print(f\"Option price using numerical integration: {option_price_integration:.2f}\")\n",
    "print(f\"Option price using Monte Carlo simulation: {option_price_monte_carlo:.2f}\")"
   ]
  }
 ],
 "metadata": {
  "kernelspec": {
   "display_name": "Python 3 (ipykernel)",
   "language": "python",
   "name": "python3"
  },
  "language_info": {
   "codemirror_mode": {
    "name": "ipython",
    "version": 3
   },
   "file_extension": ".py",
   "mimetype": "text/x-python",
   "name": "python",
   "nbconvert_exporter": "python",
   "pygments_lexer": "ipython3",
   "version": "3.10.13"
  }
 },
 "nbformat": 4,
 "nbformat_minor": 2
}
