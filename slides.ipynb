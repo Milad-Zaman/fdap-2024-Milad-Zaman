{
 "cells": [
  {
   "attachments": {},
   "cell_type": "markdown",
   "metadata": {},
   "source": [
    "![head.png](figures/head.jpg)\n",
    "\n",
    "# Financial Data Analytics in Python\n",
    "\n",
    "**Prof. Dr. Fabian Woebbeking**</br>\n",
    "Assistant Professor of Financial Economics\n",
    "\n",
    "IWH - Leibniz Institute for Economic Research</br>\n",
    "MLU - Martin Luther University Halle-Wittenberg\n",
    "\n",
    "fabian.woebbeking@iwh-halle.de"
   ]
  },
  {
   "attachments": {},
   "cell_type": "markdown",
   "metadata": {},
   "source": [
    "# Introduction\n"
   ]
  },
  {
   "attachments": {},
   "cell_type": "markdown",
   "metadata": {},
   "source": [
    "## Learning experience\n",
    "\n",
    "This course is predominantly hands on and draws from several subject areas, such as financial economics, data science, textual analysis, etc. The fundamental concept is to **introduce and implement concepts that are relevant to financial economists**. As such, in class and grading, we focus both on knowledge transfer as well as the solution.\n",
    "\n",
    "*I hate programming!*</br>\n",
    "*I hate programming!*</br>\n",
    "*I hate programming!*</br>\n",
    "*OH! IT WORKS!*</br>\n",
    "*I love programming!*</br>"
   ]
  },
  {
   "attachments": {},
   "cell_type": "markdown",
   "metadata": {},
   "source": [
    "### Materials\n",
    "\n",
    "The course is hosted as a Git repository on GitHub (see README.md therein): https://github.com/cafawo/FinancialDataAnalytics\n",
    "\n",
    "We will rely heavily on Jupyter notebooks during the class. **Especially during class and as a backup**, you can always open the latest version of the material using:\n",
    "* the interactive [**Colab version**](https://colab.research.google.com/github/cafawo/FinancialDataAnalytics/blob/master/slides.ipynb)\n",
    "* or a static [html version](https://cafawo.github.io/FinancialDataAnalytics/slides.html)\n",
    "\n",
    "> \"Colaboratory, or “Colab” for short, is a product from Google Research. Colab allows anybody to write and execute arbitrary python code through the browser, and is especially well suited to machine learning, data analysis and education. More technically, Colab is a hosted Jupyter notebook service that requires no setup to use, while providing access free of charge to computing resources including GPUs.\" [(Google, 2023)](https://research.google.com/colaboratory/faq.html)\n",
    "\n",
    "Here you can find Colab links for all notebooks in the repository:"
   ]
  },
  {
   "cell_type": "code",
   "execution_count": 30,
   "metadata": {},
   "outputs": [
    {
     "name": "stdout",
     "output_type": "stream",
     "text": [
      "https://colab.research.google.com/github/cafawo/FinancialDataAnalytics/blob/master/slides.ipynb\n",
      "https://colab.research.google.com/github/cafawo/FinancialDataAnalytics/blob/master/homework/01_setup.ipynb\n"
     ]
    }
   ],
   "source": [
    "\"\"\"\n",
    "Yeah I know, this cell does not run on Colab. :)\n",
    "The solution requires web scraping or the GitHub Python API.\n",
    "If you have a better solution, open a pull request.\n",
    "\"\"\"\n",
    "import os\n",
    "colab_url = \"https://colab.research.google.com/github/cafawo/FinancialDataAnalytics/blob/master/\"\n",
    "# Loop through all the directories and files in the root directory and its subdirectories\n",
    "for root, _, files in os.walk('.'):\n",
    "    for file in files:\n",
    "        # Check if the file has a .ipynb extension\n",
    "        if file.endswith('.ipynb'):\n",
    "            # Extract the relative path to the notebook\n",
    "            notebook_path = os.path.join(root, file).replace(\"\\\\\",\"/\")\n",
    "            # Print the Colab url\n",
    "            print(colab_url + notebook_path[2:])"
   ]
  },
  {
   "attachments": {},
   "cell_type": "markdown",
   "metadata": {},
   "source": [
    "### Grading\n",
    "\n",
    "**Deliverables:**\n",
    "\n",
    "1. Small homework assignments are designed to keep track of your progress (individually)\n",
    "2. Two case studies on current topics in data science and financial economics (individually)\n",
    "3. One presentation on libraries, tools or data science topics that cannot be covered in detail during the classes (potentially in groups)\n",
    "\n",
    "All students are requested to hand in their homework, cases and presentation slides as **one Git repository**. This repository is submitted only once, by the end of the entire course. Please note that Git keeps track of changes made (when and by whom) in a repository, copy pasting a repository - i.e. plagiarism - from a colleague will not be tolerated. \n",
    "\n",
    "**Deadlines** are enforced through the **commit timestamps** within your repository. For example, a homework assignment has to be commited before the start of the following lecture (where the solution is discussed). Homework assignments that are commited before the deadline are equally weighted, others are ignored(!). You have to submit a **minimum of 4** homework assignments.\n",
    "\n",
    "\n",
    "\n",
    "**Bonus points:**\n",
    "\n",
    "Bonus points are awarded to incentivize a collaborative class environnement. Points are awarded for **asking, answering and voting** on Q&A here: https://github.com/cafawo/FinancialDataAnalytics/discussions\n",
    "\n",
    "You are also allowed to ask and answer questions yourself. Please note that the discussion board is monitored and should be used strictly for Q&A that relates to the class. \"How do you like the food in the dining hall?\" is not considered a relevant question, hence, does not get you any points. You are allowed to cite and link external sources (e.g. Stack Overflow). You can add an additional answer (there is a voting system).\n",
    "\n",
    "Additionally, you are very much invited to propose changes (so called pull-requests) to the course repository, see https://github.com/cafawo/FinancialDataAnalytics/pulls"
   ]
  },
  {
   "attachments": {},
   "cell_type": "markdown",
   "metadata": {},
   "source": [
    "## Tech requirements\n",
    "\n",
    "This class requires you to run Python codes (incl. scripts and Jupyter notebooks). Furthermore, we use Git and GitHub as a versioning system. All software are open source and/or free!\n",
    "\n",
    "If you do not have the tech yet:\n",
    "\n",
    "* Install Python (I highly recommend Anaconda):\n",
    "    * https://www.anaconda.com/products/distribution\n",
    "* Install Git (choose one of these):\n",
    "    * https://git-scm.com/downloads\n",
    "    * https://anaconda.org/anaconda/git\n",
    "\n",
    "The remainder of the slides assumes that you have both Python and Git installed on your system. Nevertheless, should you encounter difficulties, consider using Colab (see \"Materials\" above)."
   ]
  },
  {
   "attachments": {},
   "cell_type": "markdown",
   "metadata": {},
   "source": [
    "## Git and GitHub\n",
    "\n",
    "![git.png](https://github.com/cafawo/Derivatives/blob/main/figures/git.png?raw=1)\n",
    "\n",
    "### Git (local repository)\n",
    "> Git is a free and open source distributed version control system designed to handle everything from small to very large projects with speed and efficiency. [(see Git, 2023)](https://git-scm.com/)\n",
    "\n",
    "Some source-code editors come with build-in Git (and even GitHub) capabilities or can be extended (e.g. [Microsoft's Visual Studio Code](https://code.visualstudio.com/), which I use during this course).\n",
    "\n",
    "Your local repository is essentially a folder on your local file system. Changes made in that folder can be committed to the (local) git repository. \n",
    "\n",
    "First, \"stage\" your changes - this is sth. like a pre-commit:\n",
    "\n",
    "```Bash\n",
    "# The '*' adds all changes made in your folder (you should be more selective)\n",
    "git add *\n",
    "```\n",
    "\n",
    "Second, commit your staged changes to the local repository:\n",
    "```Bash\n",
    "git commit -m 'Commit message'\n",
    "```\n",
    "\n",
    "In the broadest sense, you could see Git as a block chain of commits (changes) made to your repository. You can thus\n",
    "* observe a complete history.\n",
    "* `git checkout` the state at any commit to the repository.\n",
    "\n",
    "Why Git? ... \n",
    "\n",
    "![conint.png](https://d1.awsstatic.com/product-marketing/DevOps/continuous_integration.4f4cddb8556e2b1a0ca0872ace4d5fe2f68bbc58.png)\n",
    "\n",
    "\n",
    ">Continuous integration is a DevOps software development practice where developers regularly merge their code changes into a central repository, after which automated builds and tests are run. [AWS, 2023](https://aws.amazon.com/devops/continuous-integration)\n",
    "\n",
    "\n",
    "\n",
    "\n",
    "More on Git:\n",
    "\n",
    "* About Git itself: https://git-scm.com/about\n",
    "* Getting started (videos, tutorials): https://git-scm.com/doc\n",
    "\n",
    "\n",
    "### GitHub (remote repository)\n",
    "\n",
    "> GitHub is an Internet hosting service for software development and version control using Git.\n",
    "\n",
    "Connecting to the remote repository\n",
    "\n",
    "After installing git, you can `clone` the course repository to your local system:\n",
    "\n",
    "```Bash\n",
    "git clone https://github.com/cafawo/FinancialDataAnalytics.git\n",
    "```\n",
    "\n",
    "Your local Git repository remembers its origins. This enables you to `pull` updates from the remote (Git does not synchronize automatically). \n",
    "\n",
    "```Bash\n",
    "git pull\n",
    "```\n",
    "\n",
    "If you have write access to the remote, you can also `push` changes to it.\n",
    "\n",
    "```Bash\n",
    "git push\n",
    "```\n",
    "\n",
    "Careful: Git tries its best to merge the remote with the local repository, however, might fail if the two repositories are 'too' diverging. This should not concern you too much as a single user, but becomes very relevant when collaborating on a remote.\n",
    "\n",
    "This is all we need for this course, however, it is only the tip of the iceberg. More on GitHub:\n",
    "\n",
    "* Working with GitHub (remotes): https://skills.github.com/\n"
   ]
  },
  {
   "attachments": {},
   "cell_type": "markdown",
   "metadata": {},
   "source": [
    "## Python\n",
    "\n",
    "- Python is an open-source programming language that can be downloaded and used for free.\n",
    "- Python was created by Guido van Rossum and first published in 1991.\n",
    "- Today the language is largely developed by the Python Software Foundation, a nonprofit organization.\n",
    "- It is named after the British comedy group \"Monty Python\"."
   ]
  },
  {
   "attachments": {},
   "cell_type": "markdown",
   "metadata": {},
   "source": [
    "If you are new to Python, many examples and extended information can be found on the following websites:  \n",
    "\n",
    "* [Beginners' Guide](https://wiki.python.org/moin/BeginnersGuide)\n",
    "* [Python.org](https://docs.python.org/3/tutorial/)\n",
    "* [Scipy Lectures](http://scipy-lectures.org/_downloads/ScipyLectures-simple.pdf)\n",
    "* [The Hitchhiker’s Guide to Python](https://docs.python-guide.org)"
   ]
  },
  {
   "attachments": {},
   "cell_type": "markdown",
   "metadata": {},
   "source": [
    "Pros:\n",
    "- __Universal__: Python runs on any operating system.\n",
    "- __Easy to learn__: Although Python is highly versatile (e.g. can be used for scientific computing), it is relatively easy to learn.\n",
    "- __Readable code__: Python is a high-level programming language, making it easy to read and work with.\n",
    "- __General purpose__: The language can be applied to solve different problems at hand.\n",
    "- __Open source__ and __free__.\n",
    "- __Cross-platform__\n",
    "- __Indentation aware__: indentation is used instead of braces to mark code blocks.\n",
    "\n",
    "Cons:\n",
    "- __Speed__: While Python is not slow, it cannot keep up with compiled languages such as C, C++, Fortran, COBOL, etc."
   ]
  },
  {
   "attachments": {},
   "cell_type": "markdown",
   "metadata": {},
   "source": [
    "### Running Python\n",
    "\n",
    "You can call `python` directly from a shell or start an online version at [online shell](https://www.python.org/shell/). This gives you a nice calculator, but has limited use for our class. We will focus on scripts (.py suffix) and Jupyter notebooks (.ipynb suffix).\n",
    "\n",
    "#### Scripts (**.py** suffix)\n",
    "\n",
    "For our development process we usually focus on python scripts. These scripts can be edited with any text editor. A python script, e.g. run.py, can be executed in the shell\n",
    "\n",
    "```\n",
    "python run.py\n",
    "```\n",
    "\n",
    "You will have more fun when opening scripts inside an __IDE__ (Integrated Development Environment), which is an application that integrates programming, running code, debugging, etc. One example is [Spyder](https://www.spyder-ide.org/), which ships directly with anaconda.\n",
    "\n",
    "#### Jupyter notebooks (**.ipynb** suffix)\n",
    "\n",
    "> The Jupyter Notebook is a web-based interactive computing platform that allows users to author data- and code-driven narratives that combine live code, equations, narrative text, visualizations, interactive dashboards and other media. [(see Jupyter.org, 2023)](https://jupyter.org/about)\n",
    "\n",
    "Jupyter notebooks run out of the box with our Anaconda distribution. This script here is written in Jupyter. (Remember the backup solution using Colab, which we discussed initially.)\n",
    "\n",
    "Some source-code editors can also open and run Jupyter notebooks (e.g. [Microsoft's Visual Studio Code](https://code.visualstudio.com/), which I use during this course).\n",
    "\n",
    "I recommend Jupyter notebooks as a presentation tool and python scripts for the development of more complex systems.\n",
    "\n",
    "Jupyter notebooks differentiate two basic input cells:\n",
    "\n",
    "#### Text cells aka markdown cells\n",
    "This is a **text cell**. You can **double-click** to edit this cell. Text cells\n",
    "use markdown syntax. To learn more, see this [markdown\n",
    "guide](https://colab.research.google.com/notebooks/markdown_guide.ipynb).\n",
    "\n",
    "You can also add math to text cells using [LaTeX](http://www.latex-project.org/)\n",
    "to be rendered by [MathJax](https://www.mathjax.org). Just place the statement\n",
    "within a pair of **\\$** signs. For example `$\\sqrt{3x-1}+(1+x)^2$` becomes\n",
    "$\\sqrt{3x-1}+(1+x)^2.$\n",
    "\n",
    "##### Code cells\n",
    "\n",
    "Below is a **code cell**.\n",
    "\n",
    "* Click the **Play icon** in the left gutter of the cell;\n",
    "* Type **Cmd/Ctrl+Enter** to run the cell in place;"
   ]
  },
  {
   "cell_type": "code",
   "execution_count": 31,
   "metadata": {},
   "outputs": [
    {
     "name": "stdout",
     "output_type": "stream",
     "text": [
      "12\n"
     ]
    }
   ],
   "source": [
    "a = 10 + 2\n",
    "print(a)"
   ]
  },
  {
   "attachments": {},
   "cell_type": "markdown",
   "metadata": {},
   "source": [
    "# Python basics\n",
    "\n",
    "## Style\n",
    "\n",
    "Without being too pedantic, we follow the [PEP 8 – Style Guide for Python Code](https://peps.python.org/pep-0008/). When in doubt, return to this source for guidance.\n",
    "\n",
    "### Naming convention\n",
    "Here are some best practices to follow when naming stuff.\n",
    "* Use all lowercase. Ex: name instead of Name\n",
    "* One exception: class names should start with a capital letter and follow by lowercase letters.\n",
    "* Use snake_case convention (i.e., separate words by underscores, look like a snake). Ex: gross_profit instead of grossProfit or GrossProfit.\n",
    "* Should be meaningful and easy to remember. Ex: interest_rate instead of r or ir.\n",
    "* Should have a reasonable length. Ex: sales_apr instead of sales_data_for_april\n",
    "* Avoid names of popular functions and modules. Ex: avoid print, math, or collections.\n",
    "\n",
    "### Comments\n",
    "\n",
    "Comments should help to understand how your code works and your intentions behind it! \n",
    "\n",
    "> Comments that contradict the code are worse than no comments. Always make a priority of keeping the comments up-to-date when the code changes! Comments should be complete sentences. The first word should be capitalized, unless it is an identifier that begins with a lower case letter (never alter the case of identifiers!). [(PEP 8)](https://peps.python.org/pep-0008/#comments)"
   ]
  },
  {
   "attachments": {},
   "cell_type": "markdown",
   "metadata": {},
   "source": [
    "## Data types and structures\n",
    "\n",
    "Python comes with a small set of functions and types built into it that are always available [(see overview HERE)](https://docs.python.org/3/library/functions.html).\n",
    "\n",
    "See: \n",
    "* https://docs.python.org/3/tutorial/introduction.html\n",
    "* https://docs.python.org/3/tutorial/datastructures.html"
   ]
  },
  {
   "cell_type": "code",
   "execution_count": 32,
   "metadata": {},
   "outputs": [],
   "source": [
    "# Hi, I'm a comment"
   ]
  },
  {
   "cell_type": "code",
   "execution_count": 33,
   "metadata": {},
   "outputs": [
    {
     "name": "stdout",
     "output_type": "stream",
     "text": [
      "Hello World!\n"
     ]
    }
   ],
   "source": [
    "# Printing to the standard output\n",
    "print(\"Hello World!\")"
   ]
  },
  {
   "cell_type": "code",
   "execution_count": 34,
   "metadata": {},
   "outputs": [
    {
     "name": "stdout",
     "output_type": "stream",
     "text": [
      "10\n"
     ]
    }
   ],
   "source": [
    "# A simple calculator\n",
    "print(2 + 2 * 2 + 2 ** 2)"
   ]
  },
  {
   "attachments": {},
   "cell_type": "markdown",
   "metadata": {},
   "source": [
    "### Variables"
   ]
  },
  {
   "cell_type": "code",
   "execution_count": 35,
   "metadata": {},
   "outputs": [],
   "source": [
    "# Assigning variables\n",
    "savings = 1000\n",
    "r = 0.025"
   ]
  },
  {
   "cell_type": "code",
   "execution_count": 36,
   "metadata": {},
   "outputs": [],
   "source": [
    "# Calculate the savings value in ten years, given an interest rate of 2.5%.\n",
    "future_value = savings*(1+r)**10 "
   ]
  },
  {
   "cell_type": "code",
   "execution_count": 37,
   "metadata": {},
   "outputs": [
    {
     "name": "stdout",
     "output_type": "stream",
     "text": [
      "1280.0845441963565\n"
     ]
    }
   ],
   "source": [
    "# Note that assigning a variable (above) does not print an output.\n",
    "print(future_value)"
   ]
  },
  {
   "attachments": {},
   "cell_type": "markdown",
   "metadata": {},
   "source": [
    "### Basic data types\n",
    "\n",
    "| Object type | Meaning | Used for\n",
    "|-|---|-\n",
    "| int | Integer value | Natural numbers \n",
    "|float | Floating-point number | Real numbers\n",
    "|bool | Boolean value | Something true or false\n",
    "| str | String object | Character, word, text "
   ]
  },
  {
   "attachments": {},
   "cell_type": "markdown",
   "metadata": {},
   "source": [
    "#### `int()`\n",
    "\n",
    "Zero, natural numbers and their negative counterparts, i.e., $\\mathbb Z=\\{\\ldots,-3,-2,-1,0,1,2,3,\\ldots\\}$"
   ]
  },
  {
   "cell_type": "code",
   "execution_count": 38,
   "metadata": {},
   "outputs": [
    {
     "name": "stdout",
     "output_type": "stream",
     "text": [
      "4\n",
      "<class 'int'>\n"
     ]
    }
   ],
   "source": [
    "int_example = 4\n",
    "print(int_example)\n",
    "print(type(int_example))"
   ]
  },
  {
   "attachments": {},
   "cell_type": "markdown",
   "metadata": {},
   "source": [
    "#### `float()`\n",
    "\n",
    "Floating point numbers (\"floats\"), are a computer representation of real numbers, i.e., $\\mathbb R$"
   ]
  },
  {
   "cell_type": "code",
   "execution_count": 39,
   "metadata": {},
   "outputs": [
    {
     "name": "stdout",
     "output_type": "stream",
     "text": [
      "0.25\n",
      "<class 'float'>\n"
     ]
    }
   ],
   "source": [
    "float_example = 1/4\n",
    "print(float_example)\n",
    "print(type(float_example))"
   ]
  },
  {
   "attachments": {},
   "cell_type": "markdown",
   "metadata": {},
   "source": [
    "#### `bool()`\n",
    "\n",
    "* Boolean: True or False\n",
    "* Data type associated with logical expressions\n",
    "* A Boolean is either `True` or `False`"
   ]
  },
  {
   "cell_type": "code",
   "execution_count": 40,
   "metadata": {},
   "outputs": [
    {
     "name": "stdout",
     "output_type": "stream",
     "text": [
      "True\n",
      "<class 'bool'>\n"
     ]
    }
   ],
   "source": [
    "bool_example = 5 > 4\n",
    "print(bool_example)\n",
    "print(type(bool_example))"
   ]
  },
  {
   "cell_type": "code",
   "execution_count": 41,
   "metadata": {},
   "outputs": [
    {
     "name": "stdout",
     "output_type": "stream",
     "text": [
      "True\n",
      "True\n"
     ]
    }
   ],
   "source": [
    "# Also\n",
    "print(True == 1)  # !\n",
    "print(False == 0)  # !"
   ]
  },
  {
   "attachments": {},
   "cell_type": "markdown",
   "metadata": {},
   "source": [
    "#### `str()` \n",
    "* Strings represent text, i.e., a string is a sequence of characters. \n",
    "* A string object is defined by wrapping its contents in in single or double quotation marks."
   ]
  },
  {
   "cell_type": "code",
   "execution_count": 42,
   "metadata": {},
   "outputs": [
    {
     "name": "stdout",
     "output_type": "stream",
     "text": [
      "Hello World!\n",
      "<class 'str'>\n"
     ]
    }
   ],
   "source": [
    "str_example = \"Hello World!\"\n",
    "print(str_example)\n",
    "print(type(str_example))"
   ]
  },
  {
   "cell_type": "code",
   "execution_count": 43,
   "metadata": {},
   "outputs": [
    {
     "name": "stdout",
     "output_type": "stream",
     "text": [
      "HELLO WORLD!\n",
      "['Hello', 'World!']\n",
      "['He', '', 'o Wor', 'd!']\n"
     ]
    }
   ],
   "source": [
    "# Build in Functions for strings, e.g.\n",
    "print(str_example.upper())\n",
    "print(str_example.split(' '))\n",
    "print(str_example.split('l'))"
   ]
  },
  {
   "cell_type": "code",
   "execution_count": 44,
   "metadata": {},
   "outputs": [
    {
     "name": "stdout",
     "output_type": "stream",
     "text": [
      "Plain: The future value from above is equal to 1280.0845441963565\n",
      "Fancy: The future value from above is equal to 1,280.08 with 2.50% interest.\n"
     ]
    }
   ],
   "source": [
    "# String formatting (this is cool stuff)\n",
    "formatted_str = f\"Plain: The future value from above is equal to {future_value}\"\n",
    "print(formatted_str)\n",
    "# Fancy string formatting (this is cool stuff)\n",
    "fancy_formatted_str = f\"Fancy: The future value from above is equal to {future_value:,.2f} with {r*100:.2f}% interest.\"\n",
    "print(fancy_formatted_str)"
   ]
  },
  {
   "attachments": {},
   "cell_type": "markdown",
   "metadata": {},
   "source": [
    "### Basic data structures\n",
    "\n",
    "| Object type | Meaning | Used for\n",
    "|-|---|-\n",
    "| list | Mutable container | Changing set of objects\n",
    "| tuple | Immutable container | Fixed set ob objects, record\n",
    "| dict | Mutable container | Key-value store\n",
    "| set | Mutable container | Collection of unique objects\n",
    "\n",
    "Please note that in Python **indices start at 0!**"
   ]
  },
  {
   "attachments": {},
   "cell_type": "markdown",
   "metadata": {},
   "source": [
    "#### `list()`\n",
    "* A list is created by listing its elements within square brackets, separated by commas."
   ]
  },
  {
   "cell_type": "code",
   "execution_count": 45,
   "metadata": {},
   "outputs": [
    {
     "name": "stdout",
     "output_type": "stream",
     "text": [
      "1\n",
      "7\n",
      "[1, 2, 3, 4]\n",
      "[2, 3, 4]\n"
     ]
    }
   ],
   "source": [
    "# Integers are just an example, you could store any other data type\n",
    "example_list = [1, 2, 3, 4, 5, 6, 7]\n",
    "# List indices\n",
    "print(example_list[0])    # First element\n",
    "print(example_list[-1])   # Last element\n",
    "print(example_list[:4])   # First four elements\n",
    "print(example_list[1:4])  # 2nd to 4th element\n"
   ]
  },
  {
   "cell_type": "code",
   "execution_count": 46,
   "metadata": {},
   "outputs": [
    {
     "name": "stdout",
     "output_type": "stream",
     "text": [
      "['A', 2, 'B', 'C', 5, 6, 7]\n",
      "['A', 2, 'B', 'C', 5, 6, 7, 'D']\n"
     ]
    }
   ],
   "source": [
    "# Lists are mutable, hence,\n",
    "example_list[0] = 'A'\n",
    "example_list[2:4] = ['B', 'C']\n",
    "print(example_list)\n",
    "example_list.append('D')\n",
    "print(example_list)"
   ]
  },
  {
   "cell_type": "code",
   "execution_count": 47,
   "metadata": {},
   "outputs": [
    {
     "name": "stdout",
     "output_type": "stream",
     "text": [
      "[1, 4, 9, 16, 25, 36, 49]\n",
      "['AAA', 'AAB', 'ABA']\n"
     ]
    }
   ],
   "source": [
    "# List comprehensions: very fast, very powerful (also see control flows below)\n",
    "example_list = [1, 2, 3, 4, 5, 6, 7]\n",
    "example_list_new = [x**2 for x in example_list]\n",
    "print(example_list_new)\n",
    "example_list_str = [element.upper() for element in ['aaa', 'aab', 'aba']]\n",
    "print(example_list_str)"
   ]
  },
  {
   "attachments": {},
   "cell_type": "markdown",
   "metadata": {},
   "source": [
    "#### `tuple()`\n",
    "* The elements of a tuple are written between parentheses, or just separated by commas.\n",
    "* Tuples are immutable (an immutable object is an object whose state cannot be modified after it is created)."
   ]
  },
  {
   "cell_type": "code",
   "execution_count": 48,
   "metadata": {},
   "outputs": [
    {
     "name": "stdout",
     "output_type": "stream",
     "text": [
      "(1, 2, 3, 'Tom')\n"
     ]
    }
   ],
   "source": [
    "example_tuple = (1, 2, 3, 'Tom')\n",
    "print(example_tuple)"
   ]
  },
  {
   "attachments": {},
   "cell_type": "markdown",
   "metadata": {},
   "source": [
    "#### `dict()`\n",
    "\n",
    "* key -> value pairs"
   ]
  },
  {
   "cell_type": "code",
   "execution_count": 49,
   "metadata": {},
   "outputs": [
    {
     "name": "stdout",
     "output_type": "stream",
     "text": [
      "{'A': 2.5, '2': 2.5, 2.5: 3, 'B': 'Peter'}\n",
      "Peter\n",
      "dict_keys(['A', '2', 2.5, 'B'])\n",
      "dict_values([2.5, 2.5, 3, 'Peter'])\n"
     ]
    }
   ],
   "source": [
    "example_dict = {'A':2.5, '2':2.5, 2.5:3, 'B':'Peter'}\n",
    "print(example_dict)\n",
    "print(example_dict['B'])\n",
    "print(example_dict.keys())\n",
    "print(example_dict.values())"
   ]
  },
  {
   "attachments": {},
   "cell_type": "markdown",
   "metadata": {},
   "source": [
    "#### `set()`\n",
    "\n",
    "* Unique objects"
   ]
  },
  {
   "cell_type": "code",
   "execution_count": 50,
   "metadata": {},
   "outputs": [
    {
     "name": "stdout",
     "output_type": "stream",
     "text": [
      "{1, 2, 3, 4}\n",
      "{1, 2, 3, 4, 5, 6}\n",
      "set()\n",
      "{5, 6}\n"
     ]
    }
   ],
   "source": [
    "example_set = {1, 1, 1, 2, 3, 4}\n",
    "print(example_set)\n",
    "example_set_2 = {1, 2, 3, 4, 5, 6}\n",
    "print(example_set_2)\n",
    "print(example_set - example_set_2)\n",
    "print(example_set_2 - example_set)"
   ]
  },
  {
   "attachments": {},
   "cell_type": "markdown",
   "metadata": {},
   "source": [
    "### Control flow\n",
    "\n",
    "* Control flow refers to control structures such as if-statements and for-loops that control the order in which code is executed.\n",
    "* Python uses indentation to separate control flow statements \n",
    "\n",
    "See:\n",
    "* https://docs.python.org/3/tutorial/controlflow.html"
   ]
  },
  {
   "attachments": {},
   "cell_type": "markdown",
   "metadata": {},
   "source": [
    "#### `if` statements"
   ]
  },
  {
   "cell_type": "code",
   "execution_count": 51,
   "metadata": {},
   "outputs": [
    {
     "name": "stdout",
     "output_type": "stream",
     "text": [
      "This is True\n"
     ]
    }
   ],
   "source": [
    "if 5 + 5 == 10:\n",
    "    print(\"This is True\")"
   ]
  },
  {
   "cell_type": "code",
   "execution_count": 52,
   "metadata": {},
   "outputs": [
    {
     "name": "stdout",
     "output_type": "stream",
     "text": [
      "5 > 3\n"
     ]
    }
   ],
   "source": [
    "x = 5\n",
    "if x == 1:\n",
    "    print(f\"{x} = 1\")\n",
    "elif x == 2:\n",
    "    print(f\"{x} = 2\")\n",
    "elif x == 3:\n",
    "    print(f\"{x} = 3\")\n",
    "else:\n",
    "    print(f\"{x} > 3\")"
   ]
  },
  {
   "attachments": {},
   "cell_type": "markdown",
   "metadata": {},
   "source": [
    "#### `for` loop"
   ]
  },
  {
   "cell_type": "code",
   "execution_count": 53,
   "metadata": {},
   "outputs": [
    {
     "name": "stdout",
     "output_type": "stream",
     "text": [
      "Is a tulip a flower?\n",
      "Is a rose a flower?\n",
      "Is a cucumber a flower?\n"
     ]
    }
   ],
   "source": [
    "for flower in ['tulip', 'rose', 'cucumber']:\n",
    "    print(f\"Is a {flower} a flower?\")"
   ]
  },
  {
   "cell_type": "code",
   "execution_count": 54,
   "metadata": {},
   "outputs": [
    {
     "name": "stdout",
     "output_type": "stream",
     "text": [
      "0\n",
      "1\n",
      "2\n",
      "3\n",
      "4\n"
     ]
    }
   ],
   "source": [
    "for i in range(5):\n",
    "    print(i)"
   ]
  },
  {
   "attachments": {},
   "cell_type": "markdown",
   "metadata": {},
   "source": [
    "#### `while` loop\n",
    "\n",
    "Runs while the condition is true."
   ]
  },
  {
   "cell_type": "code",
   "execution_count": 55,
   "metadata": {},
   "outputs": [
    {
     "name": "stdout",
     "output_type": "stream",
     "text": [
      "0\n",
      "1\n",
      "2\n",
      "3\n",
      "4\n",
      "5\n"
     ]
    }
   ],
   "source": [
    "i = 0\n",
    "while i <= 5:\n",
    "    print(i)\n",
    "    i += 1"
   ]
  },
  {
   "cell_type": "code",
   "execution_count": 56,
   "metadata": {},
   "outputs": [
    {
     "name": "stdout",
     "output_type": "stream",
     "text": [
      "0\n",
      "1\n",
      "2\n"
     ]
    }
   ],
   "source": [
    "# Breaking a loop (see: https://docs.python.org/3/tutorial/controlflow.html)\n",
    "i = 0\n",
    "while True:  # This runs for a very long time ...\n",
    "    print(i)\n",
    "    i += 1\n",
    "    if i >= 3:  # ... unless you break it.\n",
    "        break"
   ]
  },
  {
   "attachments": {},
   "cell_type": "markdown",
   "metadata": {},
   "source": [
    "#### Functions\n",
    "\n",
    "See:\n",
    "* https://docs.python.org/3/tutorial/controlflow.html#defining-functions\n"
   ]
  },
  {
   "cell_type": "code",
   "execution_count": 57,
   "metadata": {},
   "outputs": [
    {
     "name": "stdout",
     "output_type": "stream",
     "text": [
      "The future value after one year is  EUR 1,100.00\n",
      "The future value after two years is EUR 2,593.74\n"
     ]
    }
   ],
   "source": [
    "def calculate_future_value(present_value, interest_rate, maturity):\n",
    "    return present_value * (1 + interest_rate) ** maturity\n",
    "\n",
    "print(f\"The future value after one year is  EUR {calculate_future_value(1000, 0.1, 1):,.2f}\")\n",
    "print(f\"The future value after two years is EUR {calculate_future_value(1000, 0.1, 10):,.2f}\")"
   ]
  },
  {
   "cell_type": "code",
   "execution_count": 58,
   "metadata": {},
   "outputs": [
    {
     "data": {
      "text/plain": [
       "0"
      ]
     },
     "execution_count": 58,
     "metadata": {},
     "output_type": "execute_result"
    }
   ],
   "source": [
    "# This will convert the notebook to a html file\n",
    "import os\n",
    "# Convert to html slides\n",
    "os.system('jupyter nbconvert slides.ipynb --to html')"
   ]
  }
 ],
 "metadata": {
  "kernelspec": {
   "display_name": "Python 3 (ipykernel)",
   "language": "python",
   "name": "python3"
  },
  "language_info": {
   "codemirror_mode": {
    "name": "ipython",
    "version": 3
   },
   "file_extension": ".py",
   "mimetype": "text/x-python",
   "name": "python",
   "nbconvert_exporter": "python",
   "pygments_lexer": "ipython3",
   "version": "3.9.12"
  }
 },
 "nbformat": 4,
 "nbformat_minor": 2
}
