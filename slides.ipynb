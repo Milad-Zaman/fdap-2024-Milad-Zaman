{
 "cells": [
  {
   "attachments": {},
   "cell_type": "markdown",
   "metadata": {},
   "source": [
    "![head.png](figures/head.jpg)\n",
    "\n",
    "# Financial Data Analytics in Python\n",
    "\n",
    "**Prof. Dr. Fabian Woebbeking**</br>\n",
    "Assistant Professor of Financial Economics\n",
    "\n",
    "IWH - Leibniz Institute for Economic Research</br>\n",
    "MLU - Martin Luther University Halle-Wittenberg\n",
    "\n",
    "fabian.woebbeking@iwh-halle.de"
   ]
  },
  {
   "attachments": {},
   "cell_type": "markdown",
   "metadata": {},
   "source": [
    "# Introduction\n"
   ]
  },
  {
   "attachments": {},
   "cell_type": "markdown",
   "metadata": {},
   "source": [
    "## Learning experience\n",
    "\n",
    "This course is predominantly hands on and draws from several subject areas, such as financial economics, data science, textual analysis, etc. The fundamental concept is to **introduce and implement concepts that are relevant to financial economists**. As such, in class and grading, we focus both on knowledge transfer as well as the solution.\n",
    "\n",
    "*I hate programming!*</br>\n",
    "*I hate programming!*</br>\n",
    "*I hate programming!*</br>\n",
    "*OH! IT WORKS!*</br>\n",
    "*I love programming!*</br>"
   ]
  },
  {
   "attachments": {},
   "cell_type": "markdown",
   "metadata": {},
   "source": [
    "### Materials\n",
    "\n",
    "The course is hosted as a Git repository on GitHub (see README.md therein): https://github.com/cafawo/FinancialDataAnalytics\n",
    "\n",
    "We will rely heavily on Jupyter notebooks during the class. **Especially during class and as a backup**, you can always open the latest version of the material using:\n",
    "* the interactive [**Colab version**](https://colab.research.google.com/github/cafawo/FinancialDataAnalytics/blob/master/slides.ipynb)\n",
    "* or a static [html version](https://cafawo.github.io/FinancialDataAnalytics/slides.html)\n",
    "\n",
    "> \"Colaboratory, or “Colab” for short, is a product from Google Research. Colab allows anybody to write and execute arbitrary python code through the browser, and is especially well suited to machine learning, data analysis and education. More technically, Colab is a hosted Jupyter notebook service that requires no setup to use, while providing access free of charge to computing resources including GPUs.\" [(Google, 2023)](https://research.google.com/colaboratory/faq.html)\n",
    "\n",
    "Here you can find Colab links for all notebooks in the repository:"
   ]
  },
  {
   "cell_type": "code",
   "execution_count": 41,
   "metadata": {},
   "outputs": [
    {
     "name": "stdout",
     "output_type": "stream",
     "text": [
      "https://colab.research.google.com/github/cafawo/FinancialDataAnalytics/blob/master/slides.ipynb\n",
      "https://colab.research.google.com/github/cafawo/FinancialDataAnalytics/blob/master/homework/01_setup.ipynb\n"
     ]
    }
   ],
   "source": [
    "\"\"\"\n",
    "Yeah I know, this cell does not run on Colab. :)\n",
    "The solution requires web scraping or the GitHub Python API.\n",
    "If you have a better solution, open a pull request.\n",
    "\"\"\"\n",
    "import os\n",
    "colab_url = \"https://colab.research.google.com/github/cafawo/FinancialDataAnalytics/blob/master/\"\n",
    "# Loop through all the directories and files in the root directory and its subdirectories\n",
    "for root, _, files in os.walk('.'):\n",
    "    for file in files:\n",
    "        # Check if the file has a .ipynb extension\n",
    "        if file.endswith('.ipynb'):\n",
    "            # Extract the relative path to the notebook\n",
    "            notebook_path = os.path.join(root, file).replace(\"\\\\\",\"/\")\n",
    "            # Print the Colab url\n",
    "            print(colab_url + notebook_path[2:])"
   ]
  },
  {
   "attachments": {},
   "cell_type": "markdown",
   "metadata": {},
   "source": [
    "### Grading\n",
    "\n",
    "**Deliverables:**\n",
    "\n",
    "1. Small homework assignments are designed to keep track of your progress (individually)\n",
    "2. Two case studies on current topics in data science and financial economics (individually)\n",
    "3. One presentation on libraries, tools or data science topics that cannot be covered in detail during the classes (potentially in groups)\n",
    "\n",
    "All students are requested to hand in their homework, cases and presentation slides as **one Git repository**. This repository is submitted only once, by the end of the entire course. Please note that Git keeps track of changes made (when and by whom) in a repository, copy pasting a repository - i.e. plagiarism - from a colleague will not be tolerated. \n",
    "\n",
    "**Deadlines** are enforced through the **commit timestamps** within your repository. For example, a homework assignment has to be commited before the start of the following lecture (where the solution is discussed). Homework assignments that are commited before the deadline are equally weighted, others are ignored(!). You have to submit a **minimum of 4** homework assignments.\n",
    "\n",
    "\n",
    "\n",
    "**Bonus points:**\n",
    "\n",
    "Bonus points are awarded to incentivize a collaborative class environnement. Points are awarded for **asking, answering and voting** on Q&A here: https://github.com/cafawo/FinancialDataAnalytics/discussions\n",
    "\n",
    "You are also allowed to ask and answer questions yourself. Please note that the discussion board is monitored and should be used strictly for Q&A that relates to the class. \"How do you like the food in the dining hall?\" is not considered a relevant question, hence, does not get you any points. You are allowed to cite and link external sources (e.g. Stack Overflow). You can add an additional answer (there is a voting system).\n",
    "\n",
    "Additionally, you are very much invited to propose changes (so called pull-requests) to the course repository, see https://github.com/cafawo/FinancialDataAnalytics/pulls"
   ]
  },
  {
   "attachments": {},
   "cell_type": "markdown",
   "metadata": {},
   "source": [
    "## Tech requirements\n",
    "\n",
    "This class requires you to run Python codes (incl. scripts and Jupyter notebooks). Furthermore, we use Git and GitHub as a versioning system. All software are open source and/or free!\n",
    "\n",
    "If you do not have the tech yet:\n",
    "\n",
    "* Install Python (I highly recommend Anaconda):\n",
    "    * https://www.anaconda.com/products/distribution\n",
    "* Install Git (choose one of these):\n",
    "    * https://git-scm.com/downloads\n",
    "    * https://anaconda.org/anaconda/git\n",
    "\n",
    "The remainder of the slides assumes that you have both Python and Git installed on your system. Nevertheless, should you encounter difficulties, consider using Colab (see \"Materials\" above)."
   ]
  },
  {
   "attachments": {},
   "cell_type": "markdown",
   "metadata": {},
   "source": [
    "## Git and GitHub\n",
    "\n",
    "![git.png](https://github.com/cafawo/Derivatives/blob/main/figures/git.png?raw=1)\n",
    "\n",
    "### Git (local repository)\n",
    "> Git is a free and open source distributed version control system designed to handle everything from small to very large projects with speed and efficiency. [(see Git, 2023)](https://git-scm.com/)\n",
    "\n",
    "Some source-code editors come with build-in Git (and even GitHub) capabilities or can be extended (e.g. [Microsoft's Visual Studio Code](https://code.visualstudio.com/), which I use during this course).\n",
    "\n",
    "Your local repository is essentially a folder on your local file system. Changes made in that folder can be committed to the (local) git repository. \n",
    "\n",
    "First, \"stage\" your changes - this is sth. like a pre-commit:\n",
    "\n",
    "```Bash\n",
    "# The '*' adds all changes made in your folder (you should be more selective)\n",
    "git add *\n",
    "```\n",
    "\n",
    "Second, commit your staged changes to the local repository:\n",
    "```Bash\n",
    "git commit -m 'Commit message'\n",
    "```\n",
    "\n",
    "In the broadest sense, you could see Git as a block chain of commits (changes) made to your repository. You can thus\n",
    "* observe a complete history.\n",
    "* `git checkout` the state at any commit to the repository.\n",
    "\n",
    "Why Git? ... \n",
    "\n",
    "![conint.png](https://d1.awsstatic.com/product-marketing/DevOps/continuous_integration.4f4cddb8556e2b1a0ca0872ace4d5fe2f68bbc58.png)\n",
    "\n",
    "\n",
    ">Continuous integration is a DevOps software development practice where developers regularly merge their code changes into a central repository, after which automated builds and tests are run. [AWS, 2023](https://aws.amazon.com/devops/continuous-integration)\n",
    "\n",
    "\n",
    "\n",
    "\n",
    "More on Git:\n",
    "\n",
    "* About Git itself: https://git-scm.com/about\n",
    "* Getting started (videos, tutorials): https://git-scm.com/doc\n",
    "\n",
    "\n",
    "### GitHub (remote repository)\n",
    "\n",
    "> GitHub is an Internet hosting service for software development and version control using Git.\n",
    "\n",
    "Connecting to the remote repository\n",
    "\n",
    "After installing git, you can `clone` the course repository to your local system:\n",
    "\n",
    "```Bash\n",
    "git clone https://github.com/cafawo/FinancialDataAnalytics.git\n",
    "```\n",
    "\n",
    "Your local Git repository remembers its origins. This enables you to `pull` updates from the remote (Git does not synchronize automatically). \n",
    "\n",
    "```Bash\n",
    "git pull\n",
    "```\n",
    "\n",
    "If you have write access to the remote, you can also `push` changes to it.\n",
    "\n",
    "```Bash\n",
    "git push\n",
    "```\n",
    "\n",
    "Careful: Git tries its best to merge the remote with the local repository, however, might fail if the two repositories are 'too' diverging. This should not concern you too much as a single user, but becomes very relevant when collaborating on a remote.\n",
    "\n",
    "This is all we need for this course, however, it is only the tip of the iceberg. More on GitHub:\n",
    "\n",
    "* Working with GitHub (remotes): https://skills.github.com/\n"
   ]
  },
  {
   "attachments": {},
   "cell_type": "markdown",
   "metadata": {},
   "source": [
    "## Python\n",
    "\n",
    "- Python is an open-source programming language that can be downloaded and used for free.\n",
    "- Python was created by Guido van Rossum and first published in 1991.\n",
    "- Today the language is largely developed by the Python Software Foundation, a nonprofit organization.\n",
    "- It is named after the British comedy group \"Monty Python\"."
   ]
  },
  {
   "attachments": {},
   "cell_type": "markdown",
   "metadata": {},
   "source": [
    "If you are new to Python, many examples and extended information can be found on the following websites:  \n",
    "\n",
    "* [Beginners' Guide](https://wiki.python.org/moin/BeginnersGuide)\n",
    "* [Python.org](https://docs.python.org/3/tutorial/)\n",
    "* [Scipy Lectures](http://scipy-lectures.org/_downloads/ScipyLectures-simple.pdf)\n",
    "* [The Hitchhiker’s Guide to Python](https://docs.python-guide.org)"
   ]
  },
  {
   "attachments": {},
   "cell_type": "markdown",
   "metadata": {},
   "source": [
    "Pros:\n",
    "- __Universal__: Python runs on any operating system.\n",
    "- __Easy to learn__: Although Python is highly versatile (e.g. can be used for scientific computing), it is relatively easy to learn.\n",
    "- __Readable code__: Python is a high-level programming language, making it easy to read and work with.\n",
    "- __General purpose__: The language can be applied to solve different problems at hand.\n",
    "- __Open source__ and __free__.\n",
    "- __Cross-platform__\n",
    "- __Indentation aware__: indentation is used instead of braces to mark code blocks.\n",
    "\n",
    "Cons:\n",
    "- __Speed__: While Python is not slow, it cannot keep up with compiled languages such as C, C++, Fortran, COBOL, etc."
   ]
  },
  {
   "attachments": {},
   "cell_type": "markdown",
   "metadata": {},
   "source": [
    "### Running Python\n",
    "\n",
    "You can call `python` directly from a shell or start an online version at [online shell](https://www.python.org/shell/). This gives you a nice calculator, but has limited use for our class. We will focus on scripts (.py suffix) and Jupyter notebooks (.ipynb suffix).\n",
    "\n",
    "#### Scripts (**.py** suffix)\n",
    "\n",
    "For our development process we usually focus on python scripts. These scripts can be edited with any text editor. A python script, e.g. run.py, can be executed in the shell\n",
    "\n",
    "```\n",
    "python run.py\n",
    "```\n",
    "\n",
    "You will have more fun when opening scripts inside an __IDE__ (Integrated Development Environment), which is an application that integrates programming, running code, debugging, etc. One example is [Spyder](https://www.spyder-ide.org/), which ships directly with anaconda.\n",
    "\n",
    "#### Jupyter notebooks (**.ipynb** suffix)\n",
    "\n",
    "> The Jupyter Notebook is a web-based interactive computing platform that allows users to author data- and code-driven narratives that combine live code, equations, narrative text, visualizations, interactive dashboards and other media. [(see Jupyter.org, 2023)](https://jupyter.org/about)\n",
    "\n",
    "Jupyter notebooks run out of the box with our Anaconda distribution. This script here is written in Jupyter. (Remember the backup solution using Colab, which we discussed initially.)\n",
    "\n",
    "Some source-code editors can also open and run Jupyter notebooks (e.g. [Microsoft's Visual Studio Code](https://code.visualstudio.com/), which I use during this course).\n",
    "\n",
    "I recommend Jupyter notebooks as a presentation tool and python scripts for the development of more complex systems.\n",
    "\n",
    "Jupyter notebooks differentiate two basic input cells:\n",
    "\n",
    "#### Text cells aka markdown cells\n",
    "This is a **text cell**. You can **double-click** to edit this cell. Text cells\n",
    "use markdown syntax. To learn more, see this [markdown\n",
    "guide](https://colab.research.google.com/notebooks/markdown_guide.ipynb).\n",
    "\n",
    "You can also add math to text cells using [LaTeX](http://www.latex-project.org/)\n",
    "to be rendered by [MathJax](https://www.mathjax.org). Just place the statement\n",
    "within a pair of **\\$** signs. For example `$\\sqrt{3x-1}+(1+x)^2$` becomes\n",
    "$\\sqrt{3x-1}+(1+x)^2.$\n",
    "\n",
    "##### Code cells\n",
    "\n",
    "Below is a **code cell**.\n",
    "\n",
    "* Click the **Play icon** in the left gutter of the cell;\n",
    "* Type **Cmd/Ctrl+Enter** to run the cell in place;"
   ]
  },
  {
   "cell_type": "code",
   "execution_count": 42,
   "metadata": {},
   "outputs": [
    {
     "name": "stdout",
     "output_type": "stream",
     "text": [
      "12\n"
     ]
    }
   ],
   "source": [
    "a = 10 + 2\n",
    "print(a)"
   ]
  },
  {
   "cell_type": "code",
   "execution_count": 43,
   "metadata": {},
   "outputs": [
    {
     "data": {
      "text/plain": [
       "0"
      ]
     },
     "execution_count": 43,
     "metadata": {},
     "output_type": "execute_result"
    }
   ],
   "source": [
    "# This will convert the notebook to a html file\n",
    "import os\n",
    "# Convert to html slides\n",
    "os.system('jupyter nbconvert slides.ipynb --to html')"
   ]
  }
 ],
 "metadata": {
  "kernelspec": {
   "display_name": "Python 3 (ipykernel)",
   "language": "python",
   "name": "python3"
  },
  "language_info": {
   "codemirror_mode": {
    "name": "ipython",
    "version": 3
   },
   "file_extension": ".py",
   "mimetype": "text/x-python",
   "name": "python",
   "nbconvert_exporter": "python",
   "pygments_lexer": "ipython3",
   "version": "3.9.12"
  }
 },
 "nbformat": 4,
 "nbformat_minor": 2
}
