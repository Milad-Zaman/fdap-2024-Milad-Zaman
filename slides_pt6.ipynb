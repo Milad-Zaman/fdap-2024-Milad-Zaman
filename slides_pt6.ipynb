{
 "cells": [
  {
   "attachments": {},
   "cell_type": "markdown",
   "metadata": {},
   "source": [
    "![head.png](figures/head.jpg)\n",
    "\n",
    "# Financial Data Analytics in Python\n",
    "\n",
    "**Prof. Dr. Fabian Woebbeking**</br>\n",
    "Assistant Professor of Financial Economics\n",
    "\n",
    "IWH - Leibniz Institute for Economic Research</br>\n",
    "MLU - Martin Luther University Halle-Wittenberg\n",
    "\n",
    "fabian.woebbeking@iwh-halle.de"
   ]
  },
  {
   "cell_type": "code",
   "execution_count": 7,
   "metadata": {},
   "outputs": [],
   "source": [
    "# Packages used in this notebook\n",
    "import numpy as np\n",
    "import pandas as pd\n",
    "import matplotlib.pyplot as plt"
   ]
  },
  {
   "attachments": {},
   "cell_type": "markdown",
   "metadata": {},
   "source": [
    "# Virtual environments\n",
    "\n",
    "In Python, a virtual environment is a self-contained directory that encapsulates a specific Python interpreter and its associated packages and dependencies. It allows you to create isolated environments with their own set of installed libraries, independent of the globally installed packages on your system.\n",
    "\n",
    "Virtual environments are useful when you're working on multiple projects or collaborating with others, as they help ensure that each project has its own independent set of dependencies. This way, you can avoid conflicts between different versions of packages required by different projects.\n",
    "\n",
    "To create a virtual environment in Python, you can use the built-in module called venv (available in Python 3.3 and higher) or third-party tools like virtualenv or conda. \n",
    "\n",
    "Environments are particularly useful when working on different projects that require different versions of packages or when collaborating with others who have different package requirements. They provide a reliable and reproducible way to manage and isolate your project's dependencies. **This might be relevant for the code submitted for this course.**\n",
    "\n",
    "## Conda environments\n",
    "\n",
    "Conda environments are isolated environments created by the Conda package manager. Conda is a popular package management system used primarily in the Python ecosystem, although it can also manage packages for other programming languages. In my humble opinion:\n",
    "* Virtual environments are good programming practice!\n",
    "* Conda is more convenient if you already use Anaconda.\n",
    "* Conda can do (install) a bit more than PIP [(see HERE)](https://stackoverflow.com/questions/20994716/what-is-the-difference-between-pip-and-conda).\n",
    "* Using Conda and PIP to install packages into the same environnement can get you into trouble.\n",
    "\n",
    "See:\n",
    "* https://conda.io/projects/conda/en/latest/user-guide/tasks/manage-environments.html\n",
    "\n",
    "To create a virtual environment\n",
    "\n",
    "```Bash\n",
    "conda create -n myenv python=3.9 pip  # Make sure you install pip directly here!\n",
    "conda activate myenv\n",
    "# Install necessary packages, e.g.:\n",
    "conda install spyder\n",
    "# ...\n",
    "conda deactivate\n",
    "```\n",
    "\n",
    "Use your newly created environment\n",
    "\n",
    "```Bash\n",
    "conda activate myenv\n",
    "# Have fun!\n",
    "conda deactivate\n",
    "```\n",
    "\n",
    "Now the whole idea was to be able to provide a reliable and reproducible way to manage and isolate your project's dependencies. So lets save our environment:\n",
    "\n",
    "```Bash\n",
    "conda activate myenv\n",
    "conda env export > requirements.yml  # Create a list of packages that is Conda compatible\n",
    "pip list --format=freeze > requirements.txt  # Create a list of packages that is PIP compatible\n",
    "conda deactivate\n",
    "```\n",
    "\n",
    "This should have created two files (requirements.yml and requirements.txt). We can use these files, for example on a different system, to reproduce the environment:\n",
    "\n",
    "```Bash\n",
    "conda env create -f requirements.yml  # Install for the first time from .yml\n",
    "```\n",
    "\n",
    "We are therefore able to share the exact and hopefully tested environment, such that a third person can reproduce our exact results.\n",
    "\n",
    "## Venv environments\n",
    "\n",
    "The venv module provides a convenient way to create virtual environments, which are self-contained environments with their own separate set of Python packages installed in dedicated directories. A virtual environment is built upon an existing Python installation, referred to as the \"base\" Python, and it can be configured to be isolated from the packages installed in the base environment. This isolation ensures that only the packages explicitly installed within the virtual environment are accessible.\n",
    "\n",
    "When operating within a virtual environment, popular installation tools like pip automatically install Python packages into the virtual environment without requiring explicit instructions to do so. This streamlined process allows for seamless package management within the virtual environment.\n",
    "\n",
    "See:\n",
    "* https://docs.python.org/3/library/venv.html"
   ]
  }
 ],
 "metadata": {
  "kernelspec": {
   "display_name": "Python 3 (ipykernel)",
   "language": "python",
   "name": "python3"
  },
  "language_info": {
   "codemirror_mode": {
    "name": "ipython",
    "version": 3
   },
   "file_extension": ".py",
   "mimetype": "text/x-python",
   "name": "python",
   "nbconvert_exporter": "python",
   "pygments_lexer": "ipython3",
   "version": "3.7.1"
  }
 },
 "nbformat": 4,
 "nbformat_minor": 2
}
