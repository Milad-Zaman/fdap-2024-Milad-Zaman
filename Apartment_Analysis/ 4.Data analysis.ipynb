{
 "cells": [
  {
   "cell_type": "markdown",
   "metadata": {},
   "source": [
    "## Part 1: Determinants of Apartment Prices"
   ]
  },
  {
   "cell_type": "code",
   "execution_count": 4,
   "metadata": {},
   "outputs": [
    {
     "name": "stdout",
     "output_type": "stream",
     "text": [
      "                             OLS Regression Results                            \n",
      "===============================================================================\n",
      "Dep. Variable:     Price (Gesamtmiete)   R-squared:                       0.170\n",
      "Model:                             OLS   Adj. R-squared:                  0.155\n",
      "Method:                  Least Squares   F-statistic:                     11.67\n",
      "Date:                 Fri, 12 Jul 2024   Prob (F-statistic):           6.57e-12\n",
      "Time:                         11:53:07   Log-Likelihood:                -2235.1\n",
      "No. Observations:                  350   AIC:                             4484.\n",
      "Df Residuals:                      343   BIC:                             4511.\n",
      "Df Model:                            6                                         \n",
      "Covariance Type:             nonrobust                                         \n",
      "============================================================================================\n",
      "                               coef    std err          t      P>|t|      [0.025      0.975]\n",
      "--------------------------------------------------------------------------------------------\n",
      "const                      490.7953     19.039     25.779      0.000     453.348     528.243\n",
      "Size (Zimmergröße/Größe)     2.9803      0.414      7.195      0.000       2.166       3.795\n",
      "Rooms                       18.7484      3.963      4.731      0.000      10.954      26.543\n",
      "near_to_uni                 50.2030     23.810      2.108      0.036       3.370      97.036\n",
      "near_to_airport             -0.7245     41.348     -0.018      0.986     -82.053      80.604\n",
      "near_to_hbf                 11.9299     33.072      0.361      0.719     -53.120      76.980\n",
      "near_to_city_center          5.4630     28.651      0.191      0.849     -50.890      61.816\n",
      "==============================================================================\n",
      "Omnibus:                        4.127   Durbin-Watson:                   1.934\n",
      "Prob(Omnibus):                  0.127   Jarque-Bera (JB):                5.099\n",
      "Skew:                          -0.043   Prob(JB):                       0.0781\n",
      "Kurtosis:                       3.585   Cond. No.                         150.\n",
      "==============================================================================\n",
      "\n",
      "Notes:\n",
      "[1] Standard Errors assume that the covariance matrix of the errors is correctly specified.\n"
     ]
    }
   ],
   "source": [
    "import statsmodels.api as sm\n",
    "import pandas as pd\n",
    "import numpy as np\n",
    "\n",
    "# Load the Excel file with dummy variables\n",
    "file_path = '/workspaces/fdap-2024-Milad-Zaman/Apartment_Analysis/2.Data cleaning/final_data.xlsx'\n",
    "df_with_dummies = pd.read_excel(file_path)\n",
    "\n",
    "# Ensure all relevant columns are numeric\n",
    "numeric_columns = ['Size (Zimmergröße/Größe)', 'Rooms', 'near_to_uni', 'near_to_airport', 'near_to_hbf', 'near_to_city_center', 'Price (Gesamtmiete)']\n",
    "for col in numeric_columns:\n",
    "    df_with_dummies[col] = pd.to_numeric(df_with_dummies[col], errors='coerce')\n",
    "\n",
    "# Handle missing values by dropping rows with any missing values\n",
    "df_with_dummies.dropna(subset=numeric_columns, inplace=True)\n",
    "\n",
    "# Define the independent variables\n",
    "X = df_with_dummies[['Size (Zimmergröße/Größe)', 'Rooms', 'near_to_uni', 'near_to_airport', 'near_to_hbf', 'near_to_city_center']]\n",
    "# Define the dependent variable (rental prices)\n",
    "y = df_with_dummies['Price (Gesamtmiete)']\n",
    "\n",
    "# Add a constant to the model (intercept)\n",
    "X = sm.add_constant(X)\n",
    "\n",
    "# Fit the OLS model\n",
    "model = sm.OLS(y, X).fit()\n",
    "\n",
    "# Print the summary of the regression model\n",
    "print(model.summary())\n"
   ]
  },
  {
   "cell_type": "markdown",
   "metadata": {},
   "source": [
    "## Part 2: Determinants of WG Listing Duration"
   ]
  },
  {
   "cell_type": "code",
   "execution_count": 5,
   "metadata": {},
   "outputs": [
    {
     "name": "stdout",
     "output_type": "stream",
     "text": [
      "                              OLS Regression Results                             \n",
      "=================================================================================\n",
      "Dep. Variable:     Availability_in_hours   R-squared:                       0.832\n",
      "Model:                               OLS   Adj. R-squared:                  0.829\n",
      "Method:                    Least Squares   F-statistic:                     242.2\n",
      "Date:                   Fri, 12 Jul 2024   Prob (F-statistic):          2.15e-128\n",
      "Time:                           11:54:27   Log-Likelihood:                -2015.5\n",
      "No. Observations:                    350   AIC:                             4047.\n",
      "Df Residuals:                        342   BIC:                             4078.\n",
      "Df Model:                              7                                         \n",
      "Covariance Type:               nonrobust                                         \n",
      "============================================================================================\n",
      "                               coef    std err          t      P>|t|      [0.025      0.975]\n",
      "--------------------------------------------------------------------------------------------\n",
      "const                      -86.7028     17.451     -4.968      0.000    -121.027     -52.378\n",
      "Price (Gesamtmiete)         -0.0708      0.029     -2.452      0.015      -0.128      -0.014\n",
      "Size (Zimmergröße/Größe)     9.1430      0.238     38.471      0.000       8.676       9.610\n",
      "Rooms                        1.4313      2.187      0.654      0.513      -2.871       5.734\n",
      "near_to_uni                 11.8292     12.816      0.923      0.357     -13.379      37.038\n",
      "near_to_airport            -10.9290     22.113     -0.494      0.621     -54.424      32.566\n",
      "near_to_hbf                  0.4044     17.691      0.023      0.982     -34.391      35.200\n",
      "near_to_city_center         -4.2003     15.323     -0.274      0.784     -34.340      25.939\n",
      "==============================================================================\n",
      "Omnibus:                      160.055   Durbin-Watson:                   1.888\n",
      "Prob(Omnibus):                  0.000   Jarque-Bera (JB):             2398.524\n",
      "Skew:                          -1.496   Prob(JB):                         0.00\n",
      "Kurtosis:                      15.471   Cond. No.                     3.45e+03\n",
      "==============================================================================\n",
      "\n",
      "Notes:\n",
      "[1] Standard Errors assume that the covariance matrix of the errors is correctly specified.\n",
      "[2] The condition number is large, 3.45e+03. This might indicate that there are\n",
      "strong multicollinearity or other numerical problems.\n"
     ]
    }
   ],
   "source": [
    "import statsmodels.api as sm\n",
    "import pandas as pd\n",
    "\n",
    "# Load the Excel file\n",
    "file_path = '/workspaces/fdap-2024-Milad-Zaman/Apartment_Analysis/2.Data cleaning/final_data.xlsx'\n",
    "df= pd.read_excel(file_path)\n",
    "\n",
    "# Ensure all relevant columns are numeric\n",
    "numeric_columns = ['Price (Gesamtmiete)', 'Size (Zimmergröße/Größe)', 'Rooms', \n",
    "                   'near_to_uni', 'near_to_airport', 'near_to_hbf', 'near_to_city_center', \n",
    "                   'Availability_in_hours']\n",
    "for col in numeric_columns:\n",
    "    df[col] = pd.to_numeric(df[col], errors='coerce')\n",
    "\n",
    "# Handle missing values by dropping rows with any missing values\n",
    "df.dropna(subset=numeric_columns, inplace=True)\n",
    "\n",
    "# Define the independent variables\n",
    "X = df[['Price (Gesamtmiete)', 'Size (Zimmergröße/Größe)', 'Rooms', \n",
    "                     'near_to_uni', 'near_to_airport', 'near_to_hbf', 'near_to_city_center']]\n",
    "# Define the dependent variable (duration the listing remains online)\n",
    "y = df['Availability_in_hours']\n",
    "\n",
    "# Add a constant to the model (intercept)\n",
    "X = sm.add_constant(X)\n",
    "\n",
    "# Fit the OLS model\n",
    "model = sm.OLS(y, X).fit()\n",
    "\n",
    "# Print the summary of the regression model\n",
    "print(model.summary())"
   ]
  }
 ],
 "metadata": {
  "kernelspec": {
   "display_name": "Python 3",
   "language": "python",
   "name": "python3"
  },
  "language_info": {
   "codemirror_mode": {
    "name": "ipython",
    "version": 3
   },
   "file_extension": ".py",
   "mimetype": "text/x-python",
   "name": "python",
   "nbconvert_exporter": "python",
   "pygments_lexer": "ipython3",
   "version": "3.10.13"
  }
 },
 "nbformat": 4,
 "nbformat_minor": 2
}
